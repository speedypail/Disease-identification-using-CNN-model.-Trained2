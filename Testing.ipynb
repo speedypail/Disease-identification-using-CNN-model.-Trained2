{
 "cells": [
  {
   "cell_type": "code",
   "execution_count": null,
   "id": "d368f5a5-b5bc-43ee-aa2d-f1cf40a5accd",
   "metadata": {},
   "outputs": [],
   "source": [
    "import numpy as np\n",
    "import tensorflow as tf\n",
    "from tensorflow.keras.preprocessing.image import img_to_array\n",
    "import matplotlib.pyplot as plt"
   ]
  },
  {
   "cell_type": "code",
   "execution_count": null,
   "id": "e0dee8bb-a752-460c-a969-fff707dffab5",
   "metadata": {},
   "outputs": [],
   "source": [
    "model=tf.keras.models.load_model('trained_model.keras')"
   ]
  },
  {
   "cell_type": "code",
   "execution_count": null,
   "id": "171dfd0f-0fc8-445b-9e85-f2a089369566",
   "metadata": {},
   "outputs": [],
   "source": [
    "model.summary()"
   ]
  },
  {
   "cell_type": "code",
   "execution_count": 2,
   "id": "d3406c3c-00a7-43b5-b1ee-c51a90fb29e7",
   "metadata": {},
   "outputs": [
    {
     "name": "stdout",
     "output_type": "stream",
     "text": [
      "Requirement already satisfied: opencv-python in c:\\users\\vaibh\\appdata\\local\\programs\\python\\python312\\lib\\site-packages (4.10.0.84)\n",
      "Requirement already satisfied: numpy>=1.21.2 in c:\\users\\vaibh\\appdata\\local\\programs\\python\\python312\\lib\\site-packages (from opencv-python) (2.0.2)\n",
      "Note: you may need to restart the kernel to use updated packages.\n"
     ]
    },
    {
     "name": "stderr",
     "output_type": "stream",
     "text": [
      "\n",
      "[notice] A new release of pip is available: 24.0 -> 24.3.1\n",
      "[notice] To update, run: python.exe -m pip install --upgrade pip\n"
     ]
    }
   ],
   "source": [
    "pip install opencv-python"
   ]
  },
  {
   "cell_type": "code",
   "execution_count": null,
   "id": "37680143-b1bb-42eb-938a-d5ed2333479b",
   "metadata": {},
   "outputs": [],
   "source": [
    "import cv2\n",
    "image_path='PlantVillage/WCLWD_Healthy/DSC_0033.JPG'\n",
    "# Reading image\n",
    "img=cv2.imread(image_path)\n",
    "img=cv2.cvtColor(img,cv2.COLOR_BGR2RGB)\n",
    "# Displaying Image\n",
    "plt.imshow(img)\n",
    "plt.title('Test Image')\n",
    "plt.xticks([])\n",
    "plt.yticks([])\n",
    "plt.show()"
   ]
  },
  {
   "cell_type": "code",
   "execution_count": null,
   "id": "79f1f52b-de97-4f05-99f6-9c0686588609",
   "metadata": {},
   "outputs": [],
   "source": [
    "image = tf.keras.preprocessing.image.load_img(image_path, target_size=(300, 300))\n",
    "input_arr = img_to_array(image)\n",
    "input_arr=np.array([input_arr]) # Converting single image to batch\n",
    "print(input_arr.shape) "
   ]
  },
  {
   "cell_type": "code",
   "execution_count": null,
   "id": "2b7fdc55-fc63-4229-9ea9-975404af1c35",
   "metadata": {},
   "outputs": [],
   "source": [
    "prediction=model.predict(input_arr)\n",
    "prediction.shape, prediction"
   ]
  },
  {
   "cell_type": "code",
   "execution_count": null,
   "id": "7c33177a-8e8e-4687-af31-5c826f3c96e0",
   "metadata": {},
   "outputs": [],
   "source": [
    "result_index=np.argmax(prediction)\n",
    "result_index"
   ]
  },
  {
   "cell_type": "code",
   "execution_count": null,
   "id": "6680df5d-062a-4e97-ad6b-f09dc4c066d0",
   "metadata": {},
   "outputs": [],
   "source": [
    "class_name=['CCI_Caterpillars',\n",
    " 'CCI_Leaflets',\n",
    " 'WCLWD_DryingofLeaflets',\n",
    " 'WCLWD_Healthy',\n",
    " 'WCLWD_Yellowing']"
   ]
  },
  {
   "cell_type": "code",
   "execution_count": null,
   "id": "7b22dc36-9f63-4307-b65a-45f7a7a59a4d",
   "metadata": {},
   "outputs": [],
   "source": [
    "# Displaying Prediction Result\n",
    "model_prediction=class_name[result_index]\n",
    "plt.imshow(img)\n",
    "plt.imshow(img)\n",
    "plt.title(f'Disease Name:{model_prediction}')\n",
    "plt.xticks([])\n",
    "plt.yticks([])\n",
    "plt.show()"
   ]
  },
  {
   "cell_type": "code",
   "execution_count": null,
   "id": "78e471dc-6554-420c-bf76-65b3e83579e6",
   "metadata": {},
   "outputs": [],
   "source": []
  },
  {
   "cell_type": "code",
   "execution_count": null,
   "id": "2fc33545-cb3e-47e5-b701-51badc655b22",
   "metadata": {},
   "outputs": [],
   "source": []
  }
 ],
 "metadata": {
  "kernelspec": {
   "display_name": "Python 3 (ipykernel)",
   "language": "python",
   "name": "python3"
  },
  "language_info": {
   "codemirror_mode": {
    "name": "ipython",
    "version": 3
   },
   "file_extension": ".py",
   "mimetype": "text/x-python",
   "name": "python",
   "nbconvert_exporter": "python",
   "pygments_lexer": "ipython3",
   "version": "3.10.10"
  }
 },
 "nbformat": 4,
 "nbformat_minor": 5
}
