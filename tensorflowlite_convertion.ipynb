{
 "cells": [
  {
   "cell_type": "code",
   "execution_count": 2,
   "id": "6fd8d56b-1bab-48a3-a57a-1456ac75ed9d",
   "metadata": {},
   "outputs": [
    {
     "name": "stdout",
     "output_type": "stream",
     "text": [
      "INFO:tensorflow:Assets written to: C:\\Users\\vaibh\\AppData\\Local\\Temp\\tmpkanrmx19\\assets\n"
     ]
    },
    {
     "name": "stderr",
     "output_type": "stream",
     "text": [
      "INFO:tensorflow:Assets written to: C:\\Users\\vaibh\\AppData\\Local\\Temp\\tmpkanrmx19\\assets\n"
     ]
    },
    {
     "name": "stdout",
     "output_type": "stream",
     "text": [
      "Saved artifact at 'C:\\Users\\vaibh\\AppData\\Local\\Temp\\tmpkanrmx19'. The following endpoints are available:\n",
      "\n",
      "* Endpoint 'serve'\n",
      "  args_0 (POSITIONAL_ONLY): TensorSpec(shape=(32, 300, 300, 3), dtype=tf.float32, name='input_layer_1')\n",
      "Output Type:\n",
      "  TensorSpec(shape=(32, 5), dtype=tf.float32, name=None)\n",
      "Captures:\n",
      "  2218392323168: TensorSpec(shape=(), dtype=tf.resource, name=None)\n",
      "  2218392328096: TensorSpec(shape=(), dtype=tf.resource, name=None)\n",
      "  2218392337952: TensorSpec(shape=(), dtype=tf.resource, name=None)\n",
      "  2218432040976: TensorSpec(shape=(), dtype=tf.resource, name=None)\n",
      "  2218432045200: TensorSpec(shape=(), dtype=tf.resource, name=None)\n",
      "  2218432045904: TensorSpec(shape=(), dtype=tf.resource, name=None)\n",
      "  2218432052768: TensorSpec(shape=(), dtype=tf.resource, name=None)\n",
      "  2218432046608: TensorSpec(shape=(), dtype=tf.resource, name=None)\n",
      "  2218432222960: TensorSpec(shape=(), dtype=tf.resource, name=None)\n",
      "  2218432223664: TensorSpec(shape=(), dtype=tf.resource, name=None)\n",
      "  2218432230528: TensorSpec(shape=(), dtype=tf.resource, name=None)\n",
      "  2218432231232: TensorSpec(shape=(), dtype=tf.resource, name=None)\n",
      "  2218432537424: TensorSpec(shape=(), dtype=tf.resource, name=None)\n",
      "  2218432532496: TensorSpec(shape=(), dtype=tf.resource, name=None)\n",
      "  2218432541648: TensorSpec(shape=(), dtype=tf.resource, name=None)\n",
      "  2218432539712: TensorSpec(shape=(), dtype=tf.resource, name=None)\n",
      "✅ Model successfully converted to TensorFlow Lite with Float32 precision!\n"
     ]
    }
   ],
   "source": [
    "import tensorflow as tf\n",
    "\n",
    "# Load the trained model\n",
    "model = tf.keras.models.load_model(\"trained_model.keras\")\n",
    "\n",
    "# Convert to TensorFlow Lite using Float16 to minimize accuracy loss\n",
    "converter = tf.lite.TFLiteConverter.from_keras_model(model)\n",
    "converter.optimizations = [tf.lite.Optimize.DEFAULT]\n",
    "converter.target_spec.supported_types = [tf.float32]\n",
    "\n",
    "tflite_model = converter.convert()\n",
    "\n",
    "# Save the TFLite model\n",
    "with open(\"model_float32.tflite\", \"wb\") as f:\n",
    "    f.write(tflite_model)\n",
    "\n",
    "print(\"✅ Model successfully converted to TensorFlow Lite with Float32 precision!\")"
   ]
  },
  {
   "cell_type": "code",
   "execution_count": null,
   "id": "a2871c46-94c6-4824-85c3-9a3b33b21703",
   "metadata": {},
   "outputs": [],
   "source": []
  }
 ],
 "metadata": {
  "kernelspec": {
   "display_name": "Python 3 (ipykernel)",
   "language": "python",
   "name": "python3"
  },
  "language_info": {
   "codemirror_mode": {
    "name": "ipython",
    "version": 3
   },
   "file_extension": ".py",
   "mimetype": "text/x-python",
   "name": "python",
   "nbconvert_exporter": "python",
   "pygments_lexer": "ipython3",
   "version": "3.10.10"
  }
 },
 "nbformat": 4,
 "nbformat_minor": 5
}
